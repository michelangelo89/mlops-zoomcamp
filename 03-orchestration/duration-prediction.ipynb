{
 "cells": [
  {
   "cell_type": "markdown",
   "id": "4e1f75a2-3454-48c5-9a01-b16b856abfbd",
   "metadata": {},
   "source": [
    "### 🧭 ML Pipeline Overview – Module 3\n",
    "\n",
    "| **Stage**                  | **Description**                                        | **Output**                    |\n",
    "|---------------------------|--------------------------------------------------------|-------------------------------|\n",
    "| 1. Download the data      | Ingest from S3, GCS, or URL                            | Raw data file(s)              |\n",
    "| 2. Transforming data      | Filter, clean, drop columns, remove outliers           | Cleaned DataFrame             |\n",
    "| 3. Preparing data for ML  | Feature engineering, vectorization, label split        | `X_train`, `y_train`, `X_val`, `y_val` |\n",
    "| 4. Hyperparameter tuning  | Hyperopt, Optuna, or GridSearch                        | Best model parameters         |\n",
    "| 5. Train the final model  | Retrain using best parameters                          | Fitted model                  |\n",
    "| 6. Model registry         | Log final model to MLflow Model Registry               | Versioned model entry         |"
   ]
  },
  {
   "cell_type": "code",
   "execution_count": 1,
   "id": "ba9c0fdb-4c81-4689-8f23-73f2b01fe3e4",
   "metadata": {},
   "outputs": [
    {
     "name": "stdout",
     "output_type": "stream",
     "text": [
      "Python 3.9.21\n"
     ]
    }
   ],
   "source": [
    "!python -V\n"
   ]
  },
  {
   "cell_type": "markdown",
   "id": "dc986807-7cfb-45fa-9fd8-940fb246a680",
   "metadata": {},
   "source": [
    "# 📦 Imports"
   ]
  },
  {
   "cell_type": "code",
   "execution_count": null,
   "id": "f081fcaa-18d2-4d08-be68-a407bea09127",
   "metadata": {},
   "outputs": [],
   "source": [
    "import pandas as pd\n",
    "import pickle\n",
    "import seaborn as sns\n",
    "import matplotlib.pyplot as plt\n",
    "from sklearn.feature_extraction import DictVectorizer\n",
    "from sklearn.linear_model import LinearRegression, Lasso, Ridge\n",
    "from sklearn.metrics import mean_squared_error\n",
    "import mlflow\n",
    "import xgboost as xgb\n",
    "from hyperopt import fmin, tpe, hp, STATUS_OK, Trials\n",
    "from hyperopt.pyll import scope"
   ]
  },
  {
   "cell_type": "markdown",
   "id": "70463b29-5184-4bef-b158-2e6eee3c0fc8",
   "metadata": {},
   "source": [
    "# 📄 Read CSV with preprocessing"
   ]
  },
  {
   "cell_type": "code",
   "execution_count": null,
   "id": "530ce5e1-b60b-4a3e-a54e-e903d6fe2ad0",
   "metadata": {},
   "outputs": [],
   "source": [
    "\n",
    "def read_dataframe(filename):\n",
    "    df = pd.read_csv(filename)\n",
    "\n",
    "    df.lpep_dropoff_datetime = pd.to_datetime(df.lpep_dropoff_datetime)\n",
    "    df.lpep_pickup_datetime = pd.to_datetime(df.lpep_pickup_datetime)\n",
    "    df['duration'] = df.lpep_dropoff_datetime - df.lpep_pickup_datetime\n",
    "    df.duration = df.duration.apply(lambda td: td.total_seconds() / 60)\n",
    "\n",
    "    df = df[(df.duration >= 1) & (df.duration <= 60)]\n",
    "\n",
    "    categorical = ['PULocationID', 'DOLocationID']\n",
    "    df[categorical] = df[categorical].astype(str)\n",
    "\n",
    "    return df"
   ]
  },
  {
   "cell_type": "markdown",
   "id": "4693df52-7956-485f-9470-00edf7cc1c70",
   "metadata": {},
   "source": [
    "# 📊 Load Data"
   ]
  },
  {
   "cell_type": "code",
   "execution_count": null,
   "id": "cd860508-fa82-4bd4-9fe4-cd283914386c",
   "metadata": {},
   "outputs": [],
   "source": [
    "\n",
    "df_train = read_dataframe('./data/green_tripdata_2021-01.csv')\n",
    "df_val = read_dataframe('./data/green_tripdata_2021-02.csv')"
   ]
  },
  {
   "cell_type": "markdown",
   "id": "2f76d9f5-c46e-48fc-aaa2-5ceb5df5e1ff",
   "metadata": {},
   "source": [
    "# 🧪 Feature Engineering"
   ]
  },
  {
   "cell_type": "code",
   "execution_count": null,
   "id": "6736d6aa-df1c-4409-80b8-c23da88bc57c",
   "metadata": {},
   "outputs": [],
   "source": [
    "\n",
    "df_train['PU_DO'] = df_train['PULocationID'] + '_' + df_train['DOLocationID']\n",
    "df_val['PU_DO'] = df_val['PULocationID'] + '_' + df_val['DOLocationID']\n",
    "\n",
    "categorical = ['PU_DO']\n",
    "numerical = ['trip_distance']\n",
    "\n",
    "dv = DictVectorizer()\n",
    "\n",
    "train_dicts = df_train[categorical + numerical].to_dict(orient='records')\n",
    "X_train = dv.fit_transform(train_dicts)\n",
    "\n",
    "val_dicts = df_val[categorical + numerical].to_dict(orient='records')\n",
    "X_val = dv.transform(val_dicts)\n",
    "\n",
    "target = 'duration'\n",
    "y_train = df_train[target].values\n",
    "y_val = df_val[target].values"
   ]
  },
  {
   "cell_type": "markdown",
   "id": "5da2a6ab-735a-458c-b1f3-2c1cab9c495f",
   "metadata": {},
   "source": [
    "# 📈 Train & Evaluate Linear Regression"
   ]
  },
  {
   "cell_type": "code",
   "execution_count": null,
   "id": "07544cd2-3afd-4bf1-9f8d-822d9662c22b",
   "metadata": {},
   "outputs": [],
   "source": [
    "lr = LinearRegression()\n",
    "lr.fit(X_train, y_train)\n",
    "\n",
    "y_pred = lr.predict(X_val)\n",
    "print(\"Linear Reg RMSE:\", mean_squared_error(y_val, y_pred, squared=False))\n"
   ]
  },
  {
   "cell_type": "markdown",
   "id": "1d46311a-7189-496c-9208-42f3ef465429",
   "metadata": {},
   "source": [
    "# 💾 Save model"
   ]
  },
  {
   "cell_type": "code",
   "execution_count": null,
   "id": "5ad9ff8a-f691-429f-8b80-85c534e593e6",
   "metadata": {},
   "outputs": [],
   "source": [
    "\n",
    "with open(\"models/lin_reg.bin\", \"wb\") as f_out:\n",
    "    pickle.dump((dv, lr), f_out)\n"
   ]
  },
  {
   "cell_type": "markdown",
   "id": "e28e1cb9-be54-487e-8ee6-b3468e48ff89",
   "metadata": {},
   "source": [
    "# 📋 Track with MLflow (Lasso Example)"
   ]
  },
  {
   "cell_type": "code",
   "execution_count": null,
   "id": "b6c83458-add5-4b67-a845-a2973b08143e",
   "metadata": {},
   "outputs": [],
   "source": [
    "mlflow.set_tracking_uri(\"sqlite:///mlflow.db\")\n",
    "mlflow.set_experiment(\"nyc-taxi-experiment\")\n",
    "\n",
    "with mlflow.start_run():\n",
    "    mlflow.set_tag(\"developer\", \"cristian\")\n",
    "    mlflow.log_param(\"train-data-path\", \"./data/green_tripdata_2021-01.csv\")\n",
    "    mlflow.log_param(\"valid-data-path\", \"./data/green_tripdata_2021-02.csv\")\n",
    "\n",
    "    alpha = 0.1\n",
    "    mlflow.log_param(\"alpha\", alpha)\n",
    "\n",
    "    lasso = Lasso(alpha)\n",
    "    lasso.fit(X_train, y_train)\n",
    "    y_pred = lasso.predict(X_val)\n",
    "    rmse = mean_squared_error(y_val, y_pred, squared=False)\n",
    "\n",
    "    mlflow.log_metric(\"rmse\", rmse)\n",
    "    mlflow.log_artifact(local_path=\"models/lin_reg.bin\", artifact_path=\"models_pickle\")\n"
   ]
  },
  {
   "cell_type": "markdown",
   "id": "97d104f9-6a9d-4b3e-8c0e-1dd6f588853d",
   "metadata": {},
   "source": [
    "# 🚀 XGBoost + Hyperopt Tuning"
   ]
  },
  {
   "cell_type": "code",
   "execution_count": null,
   "id": "095babf0-9003-49cb-970f-8e3a95feaec0",
   "metadata": {},
   "outputs": [],
   "source": [
    "train = xgb.DMatrix(X_train, label=y_train)\n",
    "valid = xgb.DMatrix(X_val, label=y_val)\n",
    "\n",
    "def objective(params):\n",
    "    with mlflow.start_run():\n",
    "        mlflow.set_tag(\"model\", \"xgboost\")\n",
    "        mlflow.log_params(params)\n",
    "\n",
    "        booster = xgb.train(\n",
    "            params=params,\n",
    "            dtrain=train,\n",
    "            num_boost_round=1000,\n",
    "            evals=[(valid, 'validation')],\n",
    "            early_stopping_rounds=50\n",
    "        )\n",
    "\n",
    "        y_pred = booster.predict(valid)\n",
    "        rmse = mean_squared_error(y_val, y_pred, squared=False)\n",
    "        mlflow.log_metric(\"rmse\", rmse)\n",
    "\n",
    "        return {\"loss\": rmse, \"status\": STATUS_OK}\n",
    "\n",
    "search_space = {\n",
    "    'max_depth': scope.int(hp.quniform('max_depth', 4, 100, 1)),\n",
    "    'learning_rate': hp.loguniform('learning_rate', -3, 0),\n",
    "    'reg_alpha': hp.loguniform('reg_alpha', -5, -1),\n",
    "    'reg_lambda': hp.loguniform('reg_lambda', -6, -1),\n",
    "    'min_child_weight': hp.loguniform('min_child_weight', -1, 3),\n",
    "    'objective': 'reg:linear',\n",
    "    'seed': 42\n",
    "}\n",
    "\n",
    "best_result = fmin(\n",
    "    fn=objective,\n",
    "    space=search_space,\n",
    "    algo=tpe.suggest,\n",
    "    max_evals=50,\n",
    "    trials=Trials()\n",
    ")"
   ]
  },
  {
   "cell_type": "markdown",
   "id": "1daa8b5d-0dc6-41a5-bdba-689355a90bfe",
   "metadata": {},
   "source": [
    "# MLflow Logging for Multiple Models"
   ]
  },
  {
   "cell_type": "code",
   "execution_count": null,
   "id": "61bbda2a-b316-42e7-9425-233ea3a96a65",
   "metadata": {},
   "outputs": [],
   "source": [
    "from sklearn.ensemble import RandomForestRegressor, GradientBoostingRegressor, ExtraTreesRegressor\n",
    "from sklearn.svm import LinearSVR\n",
    "from sklearn.metrics import mean_squared_error\n",
    "import mlflow\n",
    "import pickle\n",
    "\n",
    "regressors = [\n",
    "    RandomForestRegressor,\n",
    "    GradientBoostingRegressor,\n",
    "    ExtraTreesRegressor,\n",
    "    LinearSVR\n",
    "]\n",
    "\n",
    "# Save preprocessor\n",
    "with open(\"models/preprocessor.b\", \"wb\") as f_out:\n",
    "    pickle.dump(dv, f_out)\n",
    "\n",
    "for model_class in regressors:\n",
    "    model_name = model_class.__name__\n",
    "\n",
    "    with mlflow.start_run(run_name=model_name):\n",
    "        mlflow.set_tag(\"model_type\", model_name)\n",
    "        mlflow.log_param(\"train-data-path\", \"./data/green_tripdata_2021-01.csv\")\n",
    "        mlflow.log_param(\"valid-data-path\", \"./data/green_tripdata_2021-02.csv\")\n",
    "        mlflow.log_artifact(\"models/preprocessor.b\", artifact_path=\"preprocessor\")\n",
    "\n",
    "        model = model_class()\n",
    "        model.fit(X_train, y_train)\n",
    "\n",
    "        y_pred = model.predict(X_val)\n",
    "        rmse = mean_squared_error(y_val, y_pred, squared=False)\n",
    "        mlflow.log_metric(\"rmse\", rmse)"
   ]
  },
  {
   "cell_type": "markdown",
   "id": "0cebea12-bd39-442d-9fc9-ad9a3cea9527",
   "metadata": {},
   "source": [
    "### 🧱 Modular ML Pipeline as Python Functions\n",
    "\n",
    "A clean function-based structure for building a machine learning workflow, which can later be orchestrated using tools like Prefect or Airflow."
   ]
  },
  {
   "cell_type": "code",
   "execution_count": null,
   "id": "a79cfe17-383e-45a9-a460-4982b45057b4",
   "metadata": {},
   "outputs": [],
   "source": [
    "def download_data(year, month):\n",
    "    ...\n",
    "    return df\n",
    "\n",
    "def prepare_data(df):\n",
    "    ...\n",
    "    return df\n",
    "\n",
    "def feature_engineering(df):\n",
    "    ...\n",
    "    return X, y\n",
    "\n",
    "def find_best_model(X, y):\n",
    "    ...\n",
    "    return params\n",
    "\n",
    "def train_model(X, y, params):\n",
    "    ...\n",
    "    return model\n",
    "\n",
    "def main():\n",
    "    df = download_data(2023, 1)\n",
    "    df = prepare_data(df)\n",
    "    X, y = feature_engineering(df)\n",
    "    model_params = find_best_model(X, y)\n",
    "    model = train_model(X, y, model_params)"
   ]
  }
 ],
 "metadata": {
  "kernelspec": {
   "display_name": "Python (exp-tracking-env)",
   "language": "python",
   "name": "exp-tracking-env"
  },
  "language_info": {
   "codemirror_mode": {
    "name": "ipython",
    "version": 3
   },
   "file_extension": ".py",
   "mimetype": "text/x-python",
   "name": "python",
   "nbconvert_exporter": "python",
   "pygments_lexer": "ipython3",
   "version": "3.9.21"
  }
 },
 "nbformat": 4,
 "nbformat_minor": 5
}
