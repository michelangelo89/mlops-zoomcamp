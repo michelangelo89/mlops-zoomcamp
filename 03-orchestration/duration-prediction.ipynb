{
 "cells": [
  {
   "cell_type": "markdown",
   "id": "4e1f75a2-3454-48c5-9a01-b16b856abfbd",
   "metadata": {},
   "source": [
    "### 🧭 ML Pipeline Overview – Module 3\n",
    "\n",
    "| **Stage**                  | **Description**                                        | **Output**                    |\n",
    "|---------------------------|--------------------------------------------------------|-------------------------------|\n",
    "| 1. Download the data      | Ingest from S3, GCS, or URL                            | Raw data file(s)              |\n",
    "| 2. Transforming data      | Filter, clean, drop columns, remove outliers           | Cleaned DataFrame             |\n",
    "| 3. Preparing data for ML  | Feature engineering, vectorization, label split        | `X_train`, `y_train`, `X_val`, `y_val` |\n",
    "| 4. Hyperparameter tuning  | Hyperopt, Optuna, or GridSearch                        | Best model parameters         |\n",
    "| 5. Train the final model  | Retrain using best parameters                          | Fitted model                  |\n",
    "| 6. Model registry         | Log final model to MLflow Model Registry               | Versioned model entry         |"
   ]
  },
  {
   "cell_type": "markdown",
   "id": "dc986807-7cfb-45fa-9fd8-940fb246a680",
   "metadata": {},
   "source": [
    "# 📦 Imports"
   ]
  },
  {
   "cell_type": "code",
   "execution_count": 18,
   "id": "f081fcaa-18d2-4d08-be68-a407bea09127",
   "metadata": {},
   "outputs": [],
   "source": [
    "import pandas as pd\n",
    "import pickle\n",
    "import seaborn as sns\n",
    "import matplotlib.pyplot as plt\n",
    "from sklearn.feature_extraction import DictVectorizer\n",
    "from sklearn.metrics import root_mean_squared_error\n",
    "from sklearn.metrics import mean_squared_error\n",
    "import numpy as np\n",
    "import mlflow\n",
    "import xgboost as xgb\n",
    "from hyperopt import fmin, tpe, hp, STATUS_OK, Trials\n",
    "from hyperopt.pyll import scope\n",
    "from pathlib import Path"
   ]
  },
  {
   "cell_type": "code",
   "execution_count": 4,
   "id": "363fe78c-8c9e-4ee5-aefb-625440d3c3e4",
   "metadata": {},
   "outputs": [
    {
     "name": "stderr",
     "output_type": "stream",
     "text": [
      "2025/05/28 07:55:43 INFO mlflow.tracking.fluent: Experiment with name 'nyc-taxi-experiment' does not exist. Creating a new experiment.\n"
     ]
    },
    {
     "data": {
      "text/plain": [
       "<Experiment: artifact_location='/workspaces/mlops-zoomcamp/03-orchestration/mlflow_data/artifacts/1', creation_time=1748418943509, experiment_id='1', last_update_time=1748418943509, lifecycle_stage='active', name='nyc-taxi-experiment', tags={}>"
      ]
     },
     "execution_count": 4,
     "metadata": {},
     "output_type": "execute_result"
    }
   ],
   "source": [
    "mlflow.set_tracking_uri(\"http://localhost:5000\")\n",
    "mlflow.set_experiment(\"nyc-taxi-experiment\")\n"
   ]
  },
  {
   "cell_type": "markdown",
   "id": "70463b29-5184-4bef-b158-2e6eee3c0fc8",
   "metadata": {},
   "source": [
    "# 📄 Read CSV with preprocessing"
   ]
  },
  {
   "cell_type": "code",
   "execution_count": 12,
   "id": "530ce5e1-b60b-4a3e-a54e-e903d6fe2ad0",
   "metadata": {},
   "outputs": [],
   "source": [
    "def read_dataframe(filename):\n",
    "    df = pd.read_parquet(filename)\n",
    "\n",
    "    df['duration'] = df.lpep_dropoff_datetime - df.lpep_pickup_datetime\n",
    "    df.duration = df.duration.apply(lambda td: td.total_seconds() / 60)\n",
    "\n",
    "    df = df[(df.duration >= 1) & (df.duration <= 60)]\n",
    "\n",
    "    categorical = ['PULocationID', 'DOLocationID']\n",
    "    df[categorical] = df[categorical].astype(str)\n",
    "    df['PU_DO'] = df['PULocationID'] + '_' + df['DOLocationID']\n",
    "\n",
    "    return df"
   ]
  },
  {
   "cell_type": "markdown",
   "id": "4693df52-7956-485f-9470-00edf7cc1c70",
   "metadata": {},
   "source": [
    "# 📊 Load Data"
   ]
  },
  {
   "cell_type": "code",
   "execution_count": 13,
   "id": "cd860508-fa82-4bd4-9fe4-cd283914386c",
   "metadata": {},
   "outputs": [],
   "source": [
    "\n",
    "df_train = read_dataframe('https://d37ci6vzurychx.cloudfront.net/trip-data/green_tripdata_2021-01.parquet')\n",
    "df_val = read_dataframe('https://d37ci6vzurychx.cloudfront.net/trip-data/green_tripdata_2021-02.parquet')"
   ]
  },
  {
   "cell_type": "code",
   "execution_count": 14,
   "id": "6736d6aa-df1c-4409-80b8-c23da88bc57c",
   "metadata": {},
   "outputs": [],
   "source": [
    "\n",
    "categorical = ['PU_DO']\n",
    "numerical = ['trip_distance']\n",
    "\n",
    "dv = DictVectorizer()\n",
    "\n",
    "train_dicts = df_train[categorical + numerical].to_dict(orient='records')\n",
    "X_train = dv.fit_transform(train_dicts)\n",
    "\n",
    "val_dicts = df_val[categorical + numerical].to_dict(orient='records')\n",
    "X_val = dv.transform(val_dicts)\n",
    "\n",
    "target = 'duration'\n",
    "y_train = df_train[target].values\n",
    "y_val = df_val[target].values"
   ]
  },
  {
   "cell_type": "markdown",
   "id": "3ba56e4a-74af-4693-a1df-7a0b968cf4fc",
   "metadata": {},
   "source": [
    "# 📋 Track with MLflow"
   ]
  },
  {
   "cell_type": "code",
   "execution_count": 21,
   "id": "2d60a2c8-3263-4ca7-ab30-b97709fc8244",
   "metadata": {},
   "outputs": [],
   "source": [
    "# Ensure 'models/' folder exists in current directory\n",
    "models_folder = Path(\"models\")\n",
    "models_folder.mkdir(exist_ok=True)"
   ]
  },
  {
   "cell_type": "code",
   "execution_count": 22,
   "id": "7f941035-b9d7-48b6-8b38-74807706a286",
   "metadata": {
    "scrolled": true
   },
   "outputs": [
    {
     "name": "stderr",
     "output_type": "stream",
     "text": [
      "/opt/conda/envs/exp-tracking-env/lib/python3.9/site-packages/xgboost/core.py:158: UserWarning: [08:31:26] WARNING: /workspace/src/objective/regression_obj.cu:227: reg:linear is now deprecated in favor of reg:squarederror.\n",
      "  warnings.warn(smsg, UserWarning)\n"
     ]
    },
    {
     "name": "stdout",
     "output_type": "stream",
     "text": [
      "[0]\tvalidation-rmse:11.44482\n",
      "[1]\tvalidation-rmse:10.77202\n",
      "[2]\tvalidation-rmse:10.18363\n",
      "[3]\tvalidation-rmse:9.67396\n",
      "[4]\tvalidation-rmse:9.23166\n",
      "[5]\tvalidation-rmse:8.84808\n",
      "[6]\tvalidation-rmse:8.51883\n",
      "[7]\tvalidation-rmse:8.23597\n",
      "[8]\tvalidation-rmse:7.99320\n",
      "[9]\tvalidation-rmse:7.78709\n",
      "[10]\tvalidation-rmse:7.61022\n",
      "[11]\tvalidation-rmse:7.45952\n",
      "[12]\tvalidation-rmse:7.33049\n",
      "[13]\tvalidation-rmse:7.22098\n",
      "[14]\tvalidation-rmse:7.12713\n",
      "[15]\tvalidation-rmse:7.04752\n",
      "[16]\tvalidation-rmse:6.98005\n",
      "[17]\tvalidation-rmse:6.92232\n",
      "[18]\tvalidation-rmse:6.87112\n",
      "[19]\tvalidation-rmse:6.82740\n",
      "[20]\tvalidation-rmse:6.78995\n",
      "[21]\tvalidation-rmse:6.75792\n",
      "[22]\tvalidation-rmse:6.72994\n",
      "[23]\tvalidation-rmse:6.70547\n",
      "[24]\tvalidation-rmse:6.68390\n",
      "[25]\tvalidation-rmse:6.66421\n",
      "[26]\tvalidation-rmse:6.64806\n",
      "[27]\tvalidation-rmse:6.63280\n",
      "[28]\tvalidation-rmse:6.61924\n",
      "[29]\tvalidation-rmse:6.60773\n",
      "[30]\tvalidation-rmse:6.59777\n",
      "[31]\tvalidation-rmse:6.58875\n",
      "[32]\tvalidation-rmse:6.58107\n",
      "[33]\tvalidation-rmse:6.57217\n",
      "[34]\tvalidation-rmse:6.56557\n",
      "[35]\tvalidation-rmse:6.56003\n",
      "[36]\tvalidation-rmse:6.55392\n",
      "[37]\tvalidation-rmse:6.54924\n",
      "[38]\tvalidation-rmse:6.54536\n",
      "[39]\tvalidation-rmse:6.54187\n",
      "[40]\tvalidation-rmse:6.53873\n",
      "[41]\tvalidation-rmse:6.53518\n",
      "[42]\tvalidation-rmse:6.53287\n",
      "[43]\tvalidation-rmse:6.53048\n",
      "[44]\tvalidation-rmse:6.52858\n",
      "[45]\tvalidation-rmse:6.52703\n",
      "[46]\tvalidation-rmse:6.52566\n",
      "[47]\tvalidation-rmse:6.52419\n",
      "[48]\tvalidation-rmse:6.52323\n",
      "[49]\tvalidation-rmse:6.52265\n",
      "[50]\tvalidation-rmse:6.52202\n",
      "[51]\tvalidation-rmse:6.52036\n",
      "[52]\tvalidation-rmse:6.52003\n",
      "[53]\tvalidation-rmse:6.51962\n",
      "[54]\tvalidation-rmse:6.51829\n",
      "[55]\tvalidation-rmse:6.51712\n",
      "[56]\tvalidation-rmse:6.51598\n",
      "[57]\tvalidation-rmse:6.51517\n",
      "[58]\tvalidation-rmse:6.51442\n",
      "[59]\tvalidation-rmse:6.51357\n",
      "[60]\tvalidation-rmse:6.51194\n",
      "[61]\tvalidation-rmse:6.51127\n",
      "[62]\tvalidation-rmse:6.51044\n",
      "[63]\tvalidation-rmse:6.50930\n",
      "[64]\tvalidation-rmse:6.50840\n",
      "[65]\tvalidation-rmse:6.50731\n",
      "[66]\tvalidation-rmse:6.50635\n",
      "[67]\tvalidation-rmse:6.50566\n",
      "[68]\tvalidation-rmse:6.50458\n",
      "[69]\tvalidation-rmse:6.50339\n",
      "[70]\tvalidation-rmse:6.50239\n",
      "[71]\tvalidation-rmse:6.50137\n",
      "[72]\tvalidation-rmse:6.50014\n",
      "[73]\tvalidation-rmse:6.49940\n",
      "[74]\tvalidation-rmse:6.49835\n",
      "[75]\tvalidation-rmse:6.49782\n",
      "[76]\tvalidation-rmse:6.49697\n",
      "[77]\tvalidation-rmse:6.49628\n",
      "[78]\tvalidation-rmse:6.49561\n",
      "[79]\tvalidation-rmse:6.49495\n",
      "[80]\tvalidation-rmse:6.49429\n",
      "[81]\tvalidation-rmse:6.49371\n",
      "[82]\tvalidation-rmse:6.49317\n",
      "[83]\tvalidation-rmse:6.49248\n",
      "[84]\tvalidation-rmse:6.49170\n",
      "[85]\tvalidation-rmse:6.49080\n",
      "[86]\tvalidation-rmse:6.49020\n",
      "[87]\tvalidation-rmse:6.48927\n",
      "[88]\tvalidation-rmse:6.48842\n",
      "[89]\tvalidation-rmse:6.48717\n",
      "[90]\tvalidation-rmse:6.48666\n",
      "[91]\tvalidation-rmse:6.48608\n",
      "[92]\tvalidation-rmse:6.48531\n",
      "[93]\tvalidation-rmse:6.48457\n",
      "[94]\tvalidation-rmse:6.48376\n",
      "[95]\tvalidation-rmse:6.48304\n",
      "[96]\tvalidation-rmse:6.48246\n",
      "[97]\tvalidation-rmse:6.48113\n",
      "[98]\tvalidation-rmse:6.48052\n",
      "[99]\tvalidation-rmse:6.47984\n"
     ]
    },
    {
     "name": "stderr",
     "output_type": "stream",
     "text": [
      "/opt/conda/envs/exp-tracking-env/lib/python3.9/site-packages/xgboost/core.py:158: UserWarning: [08:32:17] WARNING: /workspace/src/c_api/c_api.cc:1374: Saving model in the UBJSON format as default.  You can use file extension: `json`, `ubj` or `deprecated` to choose between formats.\n",
      "  warnings.warn(smsg, UserWarning)\n",
      "\u001b[31m2025/05/28 08:32:21 WARNING mlflow.models.model: Model logged without a signature and input example. Please set `input_example` parameter when logging the model to auto infer the model signature.\u001b[0m\n"
     ]
    },
    {
     "name": "stdout",
     "output_type": "stream",
     "text": [
      "🏃 View run nosy-crane-268 at: http://localhost:5000/#/experiments/1/runs/a6854996ccb446309b87d68e34c8bbc8\n",
      "🧪 View experiment at: http://localhost:5000/#/experiments/1\n"
     ]
    }
   ],
   "source": [
    "with mlflow.start_run():\n",
    "    mlflow.set_tag(\"developer\", \"Michelangelo\")\n",
    "    \n",
    "    # (optional - these could also be URLs)\n",
    "    mlflow.log_param(\"train-data-path\", \"https://d37ci6vzurychx.cloudfront.net/trip-data/green_tripdata_2021-01.parquet\")\n",
    "    mlflow.log_param(\"valid-data-path\", \"https://d37ci6vzurychx.cloudfront.net/trip-data/green_tripdata_2021-02.parquet\")\n",
    "\n",
    "    # Use provided best hyperparameters\n",
    "    best_params = {\n",
    "        'learning_rate': 0.09585355369315604,\n",
    "        'max_depth': 30,\n",
    "        'min_child_weight': 1.060597050922164,\n",
    "        'objective': 'reg:linear',\n",
    "        'reg_alpha': 0.018060244040060163,\n",
    "        'reg_lambda': 0.011658731377413597,\n",
    "        'seed': 42\n",
    "    }\n",
    "\n",
    "    mlflow.log_params(best_params)\n",
    "\n",
    "    # Prepare DMatrix for XGBoost\n",
    "    train = xgb.DMatrix(X_train, label=y_train)\n",
    "    valid = xgb.DMatrix(X_val, label=y_val)\n",
    "\n",
    "    # Train model\n",
    "    booster = xgb.train(\n",
    "        params=best_params,\n",
    "        dtrain=train,\n",
    "        num_boost_round=100,\n",
    "        evals=[(valid, 'validation')],\n",
    "        early_stopping_rounds=50\n",
    "    )\n",
    "\n",
    "    # Predict and log RMSE\n",
    "    y_pred = booster.predict(valid)\n",
    "    rmse = np.sqrt(mean_squared_error(y_val, y_pred))\n",
    "    mlflow.log_metric(\"rmse\", rmse)\n",
    "\n",
    "    # Save DictVectorizer\n",
    "    with open(\"models/preprocessor.b\", \"wb\") as f_out:\n",
    "        pickle.dump(dv, f_out)\n",
    "\n",
    "    mlflow.log_artifact(\"models/preprocessor.b\", artifact_path=\"preprocessor\")\n",
    "\n",
    "    # Log the XGBoost model itself\n",
    "    mlflow.xgboost.log_model(booster, artifact_path=\"models_mlflow\")"
   ]
  },
  {
   "cell_type": "code",
   "execution_count": null,
   "id": "6f634f13-ef1a-4363-9458-d5ffb6903670",
   "metadata": {},
   "outputs": [],
   "source": []
  }
 ],
 "metadata": {
  "kernelspec": {
   "display_name": "Python (exp-tracking-env)",
   "language": "python",
   "name": "exp-tracking-env"
  },
  "language_info": {
   "codemirror_mode": {
    "name": "ipython",
    "version": 3
   },
   "file_extension": ".py",
   "mimetype": "text/x-python",
   "name": "python",
   "nbconvert_exporter": "python",
   "pygments_lexer": "ipython3",
   "version": "3.9.21"
  }
 },
 "nbformat": 4,
 "nbformat_minor": 5
}
