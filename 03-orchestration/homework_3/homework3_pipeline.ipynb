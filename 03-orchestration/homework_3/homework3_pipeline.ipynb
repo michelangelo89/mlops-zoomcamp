{
 "cells": [
  {
   "cell_type": "code",
   "execution_count": 1,
   "id": "3a8d5bf1-8824-4d1c-a2cd-875c119f1976",
   "metadata": {},
   "outputs": [
    {
     "name": "stdout",
     "output_type": "stream",
     "text": [
      "Number of rows: 3,403,766\n"
     ]
    }
   ],
   "source": [
    "import pandas as pd\n",
    "\n",
    "# Load March 2023 Yellow Taxi data\n",
    "url = \"https://d37ci6vzurychx.cloudfront.net/trip-data/yellow_tripdata_2023-03.parquet\"\n",
    "df = pd.read_parquet(url)\n",
    "\n",
    "# Print number of records\n",
    "print(f\"Number of rows: {len(df):,}\")"
   ]
  },
  {
   "cell_type": "code",
   "execution_count": 2,
   "id": "8c3aeec7-e28e-4363-ae77-3f31eeea1654",
   "metadata": {},
   "outputs": [
    {
     "name": "stdout",
     "output_type": "stream",
     "text": [
      "Number of rows after filtering: 3,316,216\n"
     ]
    }
   ],
   "source": [
    "def read_dataframe(filename):\n",
    "    df = pd.read_parquet(filename)\n",
    "\n",
    "    df['duration'] = df.tpep_dropoff_datetime - df.tpep_pickup_datetime\n",
    "    df['duration'] = df['duration'].dt.total_seconds() / 60\n",
    "\n",
    "    df = df[(df.duration >= 1) & (df.duration <= 60)]\n",
    "\n",
    "    categorical = ['PULocationID', 'DOLocationID']\n",
    "    df[categorical] = df[categorical].astype(str)\n",
    "    \n",
    "    return df\n",
    "\n",
    "df_prepared = read_dataframe(url)\n",
    "\n",
    "print(f\"Number of rows after filtering: {len(df_prepared):,}\")"
   ]
  },
  {
   "cell_type": "code",
   "execution_count": 3,
   "id": "e812f67d-5916-44d0-a859-1e1b04079e64",
   "metadata": {},
   "outputs": [
    {
     "name": "stdout",
     "output_type": "stream",
     "text": [
      "Intercept of the model: 24.77\n"
     ]
    }
   ],
   "source": [
    "from sklearn.feature_extraction import DictVectorizer\n",
    "from sklearn.linear_model import LinearRegression\n",
    "\n",
    "# Train/test data prep\n",
    "train_dicts = df_prepared[['PULocationID', 'DOLocationID']].to_dict(orient='records')\n",
    "\n",
    "# Vectorization\n",
    "dv = DictVectorizer()\n",
    "X_train = dv.fit_transform(train_dicts)\n",
    "y_train = df_prepared['duration'].values\n",
    "\n",
    "# Linear regression\n",
    "lr = LinearRegression()\n",
    "lr.fit(X_train, y_train)\n",
    "\n",
    "# Print intercept\n",
    "print(f\"Intercept of the model: {round(lr.intercept_, 2)}\")"
   ]
  },
  {
   "cell_type": "code",
   "execution_count": 6,
   "id": "e41b2daa-a371-41f5-a7f3-666bff1eb948",
   "metadata": {},
   "outputs": [
    {
     "name": "stderr",
     "output_type": "stream",
     "text": [
      "\u001b[31m2025/05/30 08:49:53 WARNING mlflow.models.model: Model logged without a signature and input example. Please set `input_example` parameter when logging the model to auto infer the model signature.\u001b[0m\n",
      "Successfully registered model 'lin_reg_model'.\n",
      "2025/05/30 08:49:53 INFO mlflow.store.model_registry.abstract_store: Waiting up to 300 seconds for model version to finish creation. Model name: lin_reg_model, version 1\n"
     ]
    },
    {
     "name": "stdout",
     "output_type": "stream",
     "text": [
      "🏃 View run capable-foal-937 at: http://127.0.0.1:5000/#/experiments/0/runs/1d8e684553f6410bb61e605ab497cd9b\n",
      "🧪 View experiment at: http://127.0.0.1:5000/#/experiments/0\n"
     ]
    },
    {
     "name": "stderr",
     "output_type": "stream",
     "text": [
      "Created version '1' of model 'lin_reg_model'.\n"
     ]
    }
   ],
   "source": [
    "import mlflow\n",
    "import mlflow.sklearn\n",
    "import numpy as np\n",
    "from sklearn.metrics import mean_squared_error\n",
    "import os\n",
    "os.environ[\"MLFLOW_TRACKING_URI\"] = \"http://127.0.0.1:5000\"\n",
    "\n",
    "# Predict on validation set\n",
    "y_pred = lr.predict(X_train)\n",
    "rmse = np.sqrt(mean_squared_error(y_train, y_pred))\n",
    "\n",
    "# Log params, metrics, and model\n",
    "params = {\"fit_intercept\": True}\n",
    "\n",
    "with mlflow.start_run():\n",
    "    mlflow.log_params(params)\n",
    "    mlflow.log_metric(\"rmse\", rmse)\n",
    "\n",
    "    mlflow.sklearn.log_model(\n",
    "        lr,\n",
    "        artifact_path=\"model\",\n",
    "        registered_model_name=\"lin_reg_model\"\n",
    "    )"
   ]
  },
  {
   "cell_type": "code",
   "execution_count": 8,
   "id": "509d5b11-2b4a-427f-af8b-bbb0d7315bad",
   "metadata": {},
   "outputs": [
    {
     "name": "stdout",
     "output_type": "stream",
     "text": [
      "Model size: 4500 bytes\n"
     ]
    }
   ],
   "source": [
    "import os\n",
    "\n",
    "model_path = \"mlflow_data/artifacts/0/1d8e684553f6410bb61e605ab497cd9b/artifacts/model/model.pkl\"\n",
    "size_bytes = os.path.getsize(model_path)\n",
    "\n",
    "print(f\"Model size: {size_bytes} bytes\")"
   ]
  },
  {
   "cell_type": "code",
   "execution_count": null,
   "id": "fdba9aea-f630-4c01-aa31-cae2ba696bce",
   "metadata": {},
   "outputs": [],
   "source": []
  }
 ],
 "metadata": {
  "kernelspec": {
   "display_name": "Python (exp-tracking-env)",
   "language": "python",
   "name": "exp-tracking-env"
  },
  "language_info": {
   "codemirror_mode": {
    "name": "ipython",
    "version": 3
   },
   "file_extension": ".py",
   "mimetype": "text/x-python",
   "name": "python",
   "nbconvert_exporter": "python",
   "pygments_lexer": "ipython3",
   "version": "3.9.21"
  }
 },
 "nbformat": 4,
 "nbformat_minor": 5
}
